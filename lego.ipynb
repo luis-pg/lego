{
 "cells": [
  {
   "attachments": {},
   "cell_type": "markdown",
   "metadata": {},
   "source": [
    "# Dashboard of Lego sets"
   ]
  },
  {
   "attachments": {},
   "cell_type": "markdown",
   "metadata": {},
   "source": [
    "## Background"
   ]
  },
  {
   "attachments": {},
   "cell_type": "markdown",
   "metadata": {},
   "source": [
    "Based on the following compettion from Datacamp: https://app.datacamp.com/workspace/w/01b3d6d5-8494-4c07-937f-0d1833ab1837?utm_source=customerio&utm_medium=email&utm_campaign=230323_1-workspace-nl-b_2-mix_3-all_4-na_5-nl_6-workspacenl_7-ws_8-emal-ci_9-na_10-bau_11-email&utm_content=blast"
   ]
  },
  {
   "attachments": {},
   "cell_type": "markdown",
   "metadata": {},
   "source": [
    "## The Data"
   ]
  },
  {
   "attachments": {},
   "cell_type": "markdown",
   "metadata": {},
   "source": [
    "https://app.datacamp.com/workspace/external-link?url=https%3A%2F%2Frebrickable.com%2Fdownloads\n",
    "\n",
    "💾 The data\n",
    "Database Description\n",
    "inventory_parts\n",
    "\n",
    "\"inventory_id\" - id of the inventory the part is in (as in the inventories table)\n",
    "\"part_num\" - unique id for the part (as in the parts table)\n",
    "\"color_id\" - id of the color\n",
    "\"quantity\" - the number of copies of the part included in the set\n",
    "\"is_spare\" - whether or not it is a spare part\n",
    "parts\n",
    "\n",
    "\"part_num\" - unique id for the part (as in the inventory_parts table)\n",
    "\"name\" - name of the part\n",
    "\"part_cat_id\" - part category id (as in part_catagories table)\n",
    "part_categories\n",
    "\n",
    "\"id\" - part category id (as in parts table)\n",
    "\"name\" - name of the category the part belongs to\n",
    "colors\n",
    "\n",
    "\"id\" - id of the color (as in inventory_parts table)\n",
    "\"name\" - color name\n",
    "\"rgb\" - rgb code of the color\n",
    "\"is_trans\" - whether or not the part is transparent/translucent\n",
    "inventories\n",
    "\n",
    "\"id\" - id of the inventory the part is in (as in the inventory_sets and inventory_parts tables)\n",
    "\"version\" - version number\n",
    "\"set_num\" - set number (as in sets table)\n",
    "inventory_sets\n",
    "\n",
    "\"inventory_id\" - id of the inventory the part is in (as in the inventories table)\n",
    "\"set_num\" - set number (as in sets table)\n",
    "\"quantity\" - the quantity of sets included\n",
    "sets\n",
    "\n",
    "\"set_num\" - unique set id (as in inventory_sets and inventories tables)\n",
    "\"name\" - the name of the set\n",
    "\"year\" - the year the set was published\n",
    "\"theme_id\" - the id of the theme the set belongs to (as in themes table)\n",
    "num-parts - the number of parts in the set\n",
    "themes\n",
    "\n",
    "\"id\" - the id of the theme (as in the sets table)\n",
    "\"name\" - the name of the theme\n",
    "\"parent_id\" - the id of the larger theme, if there is one\n",
    "Acknowledgments\n",
    "The data was provided by Rebrickable.com and be accessed through LEGO Catalog Database Downloads"
   ]
  },
  {
   "attachments": {},
   "cell_type": "markdown",
   "metadata": {},
   "source": [
    "### Libraries"
   ]
  },
  {
   "cell_type": "code",
   "execution_count": 28,
   "metadata": {},
   "outputs": [],
   "source": [
    "import pandas as pd\n",
    "import numpy as np\n",
    "import seaborn as sns\n",
    "import matplotlib.pyplot as plt"
   ]
  },
  {
   "attachments": {},
   "cell_type": "markdown",
   "metadata": {},
   "source": [
    "### Data"
   ]
  },
  {
   "cell_type": "code",
   "execution_count": 2,
   "metadata": {},
   "outputs": [],
   "source": [
    "df = pd.read_csv('sets.csv')"
   ]
  },
  {
   "attachments": {},
   "cell_type": "markdown",
   "metadata": {},
   "source": [
    "### Basic data info"
   ]
  },
  {
   "cell_type": "code",
   "execution_count": 6,
   "metadata": {},
   "outputs": [
    {
     "name": "stdout",
     "output_type": "stream",
     "text": [
      "<class 'pandas.core.frame.DataFrame'>\n",
      "RangeIndex: 20899 entries, 0 to 20898\n",
      "Data columns (total 6 columns):\n",
      " #   Column     Non-Null Count  Dtype \n",
      "---  ------     --------------  ----- \n",
      " 0   set_num    20899 non-null  object\n",
      " 1   name       20899 non-null  object\n",
      " 2   year       20899 non-null  int64 \n",
      " 3   theme_id   20899 non-null  int64 \n",
      " 4   num_parts  20899 non-null  int64 \n",
      " 5   img_url    20899 non-null  object\n",
      "dtypes: int64(3), object(3)\n",
      "memory usage: 979.8+ KB\n",
      "None\n",
      "  set_num                        name  year  theme_id  num_parts  \\\n",
      "0   001-1                       Gears  1965         1         43   \n",
      "1  0011-2           Town Mini-Figures  1979        67         12   \n",
      "2  0011-3  Castle 2 for 1 Bonus Offer  1987       199          0   \n",
      "3  0012-1          Space Mini-Figures  1979       143         12   \n",
      "4  0013-1          Space Mini-Figures  1979       143         12   \n",
      "\n",
      "                                             img_url  \n",
      "0   https://cdn.rebrickable.com/media/sets/001-1.jpg  \n",
      "1  https://cdn.rebrickable.com/media/sets/0011-2.jpg  \n",
      "2  https://cdn.rebrickable.com/media/sets/0011-3.jpg  \n",
      "3  https://cdn.rebrickable.com/media/sets/0012-1.jpg  \n",
      "4  https://cdn.rebrickable.com/media/sets/0013-1.jpg  \n"
     ]
    }
   ],
   "source": [
    "print(df.info())\n",
    "print(df.head())"
   ]
  },
  {
   "attachments": {},
   "cell_type": "markdown",
   "metadata": {},
   "source": [
    "### Analysis"
   ]
  },
  {
   "attachments": {},
   "cell_type": "markdown",
   "metadata": {},
   "source": [
    "1. What is the average number of Lego sets released per year over the total time span of our data?"
   ]
  },
  {
   "cell_type": "code",
   "execution_count": 18,
   "metadata": {},
   "outputs": [
    {
     "name": "stdout",
     "output_type": "stream",
     "text": [
      "Total years: 73 Total sets: 20899 Average sets per year: 286.28767123287673\n"
     ]
    }
   ],
   "source": [
    "# To calculate the average number of Lego sets released per year, we'll follow these steps :\n",
    "# determine the total amount of sets (aliased here as total_sets),\n",
    "sets = df.set_num.unique()\n",
    "total_sets = len(sets)\n",
    "# determine the total amount of years (aliased here as total_years),\n",
    "years = df.year.unique()\n",
    "total_years = len(years)\n",
    "# calcute the average by dividing the total amount of sets by the total amount of years.\n",
    "avg = total_sets/total_years\n",
    "\n",
    "print('Total years: ' + str(total_years) + ' Total sets: '+ str(total_sets) + ' Average sets per year: ' + str(avg))"
   ]
  },
  {
   "attachments": {},
   "cell_type": "markdown",
   "metadata": {},
   "source": [
    "2. What is the average number of Lego parts over total time span and per year?\n",
    "\n",
    "2.1 What is the average number of Lego parts per year over the total time span of our data?"
   ]
  },
  {
   "cell_type": "code",
   "execution_count": 23,
   "metadata": {},
   "outputs": [
    {
     "name": "stdout",
     "output_type": "stream",
     "text": [
      "Total amount of parts: 3348370 Total years: 73 Average of Lego parts per year: 45868.08219178082\n"
     ]
    }
   ],
   "source": [
    "# We can calculate the average number of Lego parts as follows :\n",
    "# determine the total amount of parts (aliased here as total_parts),\n",
    "total_parts = df.num_parts.sum()\n",
    "# determine the total amount of years (aliased here as total_years),\n",
    "years = df.year.unique()\n",
    "total_years = len(years)\n",
    "# calculate the average by dividing the total amount of parts by the total amount of years.\n",
    "parts_avg = total_parts/total_years\n",
    "\n",
    "print('Total amount of parts: ' + str(total_parts) + ' Total years: ' + str(total_years) + ' Average of Lego parts per year: ' + str(parts_avg))"
   ]
  },
  {
   "attachments": {},
   "cell_type": "markdown",
   "metadata": {},
   "source": [
    "2.2 What is the average number of Lego parts per year?"
   ]
  },
  {
   "cell_type": "code",
   "execution_count": 33,
   "metadata": {},
   "outputs": [],
   "source": [
    "# We can calculate this average number of Lego parts as follows :\n",
    "# determine the average amount of parts\n",
    "# round to a full number\n",
    "# group per year and order per year to see the evolution throughout the years.\n",
    "avg_df = df.groupby('year')['num_parts'].mean().to_frame(name = 'avg_num_parts').reset_index()"
   ]
  },
  {
   "attachments": {},
   "cell_type": "markdown",
   "metadata": {},
   "source": [
    "### Visualization"
   ]
  },
  {
   "cell_type": "code",
   "execution_count": 47,
   "metadata": {},
   "outputs": [
    {
     "data": {
      "text/plain": [
       "<Figure size 432x288 with 0 Axes>"
      ]
     },
     "metadata": {},
     "output_type": "display_data"
    },
    {
     "data": {
      "image/png": "[encoded data removed]",
      "text/plain": [
       "<Figure size 842.4x595.44 with 1 Axes>"
      ]
     },
     "metadata": {
      "needs_background": "light"
     },
     "output_type": "display_data"
    }
   ],
   "source": [
    "plt.clf()\n",
    "#customized and interactive bar plot\n",
    "fig, ax = plt.subplots(figsize=(11.7, 8.27))\n",
    "plt.xticks(rotation=60)\n",
    "sns.barplot(ax=ax, data=avg_df, x=\"year\", y=\"avg_num_parts\",color='steelblue')\n",
    "plt.show()"
   ]
  }
 ],
 "metadata": {
  "kernelspec": {
   "display_name": "Python 3",
   "language": "python",
   "name": "python3"
  },
  "language_info": {
   "codemirror_mode": {
    "name": "ipython",
    "version": 3
   },
   "file_extension": ".py",
   "mimetype": "text/x-python",
   "name": "python",
   "nbconvert_exporter": "python",
   "pygments_lexer": "ipython3",
   "version": "3.9.12"
  },
  "orig_nbformat": 4,
  "vscode": {
   "interpreter": {
    "hash": "11938c6bc6919ae2720b4d5011047913343b08a43b18698fd82dedb0d4417594"
   }
  }
 },
 "nbformat": 4,
 "nbformat_minor": 2
}
